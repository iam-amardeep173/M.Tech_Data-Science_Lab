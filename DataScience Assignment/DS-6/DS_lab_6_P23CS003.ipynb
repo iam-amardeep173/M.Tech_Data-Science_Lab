{
 "cells": [
  {
   "cell_type": "code",
   "execution_count": 6,
   "metadata": {},
   "outputs": [
    {
     "name": "stdout",
     "output_type": "stream",
     "text": [
      "200\n"
     ]
    }
   ],
   "source": [
    "import requests \n",
    "ram = requests.get('https://www.svnit.ac.in/web/department/computer/faculty.php') \n",
    "print(ram.status_code)"
   ]
  },
  {
   "cell_type": "code",
   "execution_count": 7,
   "metadata": {},
   "outputs": [],
   "source": [
    "from bs4 import BeautifulSoup \n",
    "  \n",
    "# Parsing the HTML \n",
    "soup1 = BeautifulSoup(r.content, 'html.parser') \n",
    "#print(soup.prettify()) "
   ]
  },
  {
   "cell_type": "code",
   "execution_count": 8,
   "metadata": {},
   "outputs": [],
   "source": [
    "s1 = soup1.find('main', class_='site-main col-xs-12 col-sm-10 col-lg-10 pull-right') \n",
    "list_detail=s1.find_all('div', class_=\"col-xs-12 col-sm-8 col-lg-10 remove_space\")\n",
    "#print(list_detail)\n"
   ]
  },
  {
   "cell_type": "code",
   "execution_count": 10,
   "metadata": {},
   "outputs": [
    {
     "name": "stdout",
     "output_type": "stream",
     "text": [
      "Data has been written to scraped_data.csv\n"
     ]
    }
   ],
   "source": [
    "import csv\n",
    "\n",
    "class PersonData:\n",
    "    def __init__(self, name, designation, research, mob, mob2, email, per_email):\n",
    "        self.name = name\n",
    "        self.designation = designation\n",
    "        self.research = research\n",
    "        self.mob = mob\n",
    "        self.mob2 = mob2\n",
    "        self.email = email\n",
    "        self.per_email = per_email \n",
    "\n",
    "# Use a different name for the list\n",
    "person_data_list = []\n",
    "\n",
    "for item in list_detail:\n",
    "    name = item.find('h4', class_=\"author-name\").text\n",
    "\n",
    "    designation = item.find('p').text.split('\\n')\n",
    "\n",
    "    p = item.find_all('i', class_=\"lnr lnr-smartphone\")\n",
    "    ph = []\n",
    "    for i in p:\n",
    "        p2 = i.find_next_sibling('strong').text\n",
    "        ph.append(p2)\n",
    "\n",
    "    e_main = item.find('div', class_=\"col-lg-8 col-xs-12 col-sm-12\")\n",
    "    em = e_main.find_all('strong')\n",
    "\n",
    "    if len(designation) < 2:\n",
    "        designation.append('Na')\n",
    "\n",
    "    if len(ph) < 2:\n",
    "        ph.append('Na')\n",
    "\n",
    "    if len(em) < 2:\n",
    "        em.append('Na')\n",
    "\n",
    "    # Create an instance of the PersonData class\n",
    "    person_instance = PersonData(\n",
    "        name,\n",
    "        designation[0],\n",
    "        designation[1],\n",
    "        ph[0],\n",
    "        ph[1],\n",
    "        em[0],\n",
    "        em[1]\n",
    "    )\n",
    "\n",
    "    # Append the instance to the list\n",
    "    person_data_list.append(person_instance)\n",
    "\n",
    "# Write the data to a CSV file\n",
    "csv_file_path = 'scraped_data.csv'\n",
    "\n",
    "with open(csv_file_path, mode='w', newline='') as csv_file:\n",
    "    csv_writer = csv.writer(csv_file)\n",
    "\n",
    "    # Write header row\n",
    "    csv_writer.writerow(['Name', 'Designation', 'Research', 'Mobile', 'Mobile2', 'Email', 'Personal Email'])\n",
    "\n",
    "    # Write data rows\n",
    "    for person in person_data_list:\n",
    "        csv_writer.writerow([person.name, person.designation, person.research, person.mob, person.mob2, person.email, person.per_email])\n",
    "\n",
    "print(f'Data has been written to {csv_file_path}')\n"
   ]
  },
  {
   "cell_type": "code",
   "execution_count": 11,
   "metadata": {},
   "outputs": [],
   "source": [
    "# class PersonData:\n",
    "#     def __init__(self, name, designation, research, mob, mob2, email, per_email):\n",
    "#         self.name = name\n",
    "#         self.designation = designation\n",
    "#         self.research = research\n",
    "#         self.mob = mob\n",
    "#         self.mob2 = mob2\n",
    "#         self.email = email\n",
    "#         self.per_email = per_email \n",
    "\n",
    "# # Use a different name for the list\n",
    "# person_data_list = []\n",
    "\n",
    "# for item in list_detail:\n",
    "#     name = item.find('h4', class_=\"author-name\").text\n",
    "\n",
    "#     designation = item.find('p').text.split('\\n')\n",
    "\n",
    "#     p = item.find_all('i', class_=\"lnr lnr-smartphone\")\n",
    "#     ph = []\n",
    "#     for i in p:\n",
    "#         p2 = i.find_next_sibling('strong').text\n",
    "#         ph.append(p2)\n",
    "\n",
    "#     e_main = item.find('div', class_=\"col-lg-8 col-xs-12 col-sm-12\")\n",
    "#     em = e_main.find_all('strong')\n",
    "\n",
    "#     if len(designation) < 2:\n",
    "#         designation.append('Na')\n",
    "\n",
    "#     if len(ph) < 2:\n",
    "#         ph.append('Na')\n",
    "\n",
    "#     if len(em) < 2:\n",
    "#         em.append('Na')\n",
    "\n",
    "#     # Create an instance of the PersonData class\n",
    "#     person_instance = PersonData(\n",
    "#         name,\n",
    "#         designation[0],\n",
    "#         designation[1],\n",
    "#         ph[0],\n",
    "#         ph[1],\n",
    "#         em[0],\n",
    "#         em[1]\n",
    "#     )\n",
    "\n",
    "#     # Append the instance to the list\n",
    "#     person_data_list.append(person_instance)\n",
    "\n",
    "# # Access attributes using the correct syntax for a list of objects\n",
    "# for person in person_data_list:\n",
    "#     print(person.name)\n",
    "#     print(person.mob)\n",
    "#     print(person.mob2)\n",
    "#     print(person.designation)\n",
    "#     print(person.research)\n",
    "#     print(person.email)\n",
    "#     print(person.per_email)\n"
   ]
  },
  {
   "cell_type": "code",
   "execution_count": null,
   "metadata": {},
   "outputs": [],
   "source": []
  }
 ],
 "metadata": {
  "kernelspec": {
   "display_name": "Python 3 (ipykernel)",
   "language": "python",
   "name": "python3"
  },
  "language_info": {
   "codemirror_mode": {
    "name": "ipython",
    "version": 3
   },
   "file_extension": ".py",
   "mimetype": "text/x-python",
   "name": "python",
   "nbconvert_exporter": "python",
   "pygments_lexer": "ipython3",
   "version": "3.9.13"
  }
 },
 "nbformat": 4,
 "nbformat_minor": 2
}
